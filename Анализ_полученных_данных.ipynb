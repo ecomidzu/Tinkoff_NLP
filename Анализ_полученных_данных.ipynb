{
  "nbformat": 4,
  "nbformat_minor": 0,
  "metadata": {
    "colab": {
      "provenance": []
    },
    "kernelspec": {
      "name": "python3",
      "display_name": "Python 3"
    },
    "language_info": {
      "name": "python"
    }
  },
  "cells": [
    {
      "cell_type": "markdown",
      "source": [
        "###Часть 0. Импорты."
      ],
      "metadata": {
        "id": "gzKU9XbnUPMR"
      }
    },
    {
      "cell_type": "code",
      "execution_count": 19,
      "metadata": {
        "id": "Lea337iqco3t"
      },
      "outputs": [],
      "source": [
        "from collections import Counter\n",
        "import pandas as pd\n",
        "import numpy as np\n",
        "import matplotlib.pyplot as plt\n",
        "import json\n",
        "import os\n",
        "import re\n",
        "import torch as th"
      ]
    },
    {
      "cell_type": "code",
      "source": [
        "!git clone https://github.com/ecomidzu/Tinkoff_NLP.git"
      ],
      "metadata": {
        "colab": {
          "base_uri": "https://localhost:8080/"
        },
        "id": "nsXOgkp4GFJM",
        "outputId": "33d63c83-0f46-4f8e-f0a2-f40f4f750233"
      },
      "execution_count": 20,
      "outputs": [
        {
          "output_type": "stream",
          "name": "stdout",
          "text": [
            "fatal: destination path 'Tinkoff_NLP' already exists and is not an empty directory.\n"
          ]
        }
      ]
    },
    {
      "cell_type": "markdown",
      "source": [
        "###Часть 1. Общий анализ результатов."
      ],
      "metadata": {
        "id": "zV_NjAhSUL45"
      }
    },
    {
      "cell_type": "markdown",
      "source": [
        "Посмотрим на результаты бейзлайна и CoT"
      ],
      "metadata": {
        "id": "bbSdjeiwqd9y"
      }
    },
    {
      "cell_type": "code",
      "source": [
        "exp1 = pd.read_excel('/content/exp1_base.xlsx')\n",
        "exp2 = pd.read_excel('/content/exp2_base.xlsx')\n",
        "exp3 = pd.read_excel('/content/exp3_base.xlsx')\n",
        "exp3_20 = pd.read_excel('/content/exp3_base_20.xlsx')\n",
        "res1 = []\n",
        "for a, b in zip(exp1['mod_answ'], exp1['true_answ']):\n",
        "  i = 0\n",
        "  try:\n",
        "    if np.around(float(a), 5) == np.around(float(b), 5):\n",
        "      i=1\n",
        "  except:\n",
        "    try:\n",
        "      b0=b.replace(',', '')\n",
        "      if np.around(float(a), 5) == np.around(float(b0), 5):\n",
        "        i=1\n",
        "    except:\n",
        "      i = 0\n",
        "      print(a)\n",
        "  res1.append(i)\n",
        "\n",
        "res2 = []\n",
        "for a, b in zip(exp2['mod_answ'], exp2['true_answ']):\n",
        "  i=0\n",
        "  try:\n",
        "    if np.around(float(a), 5) == np.around(float(b), 5):\n",
        "      i=1\n",
        "  except:\n",
        "    try:\n",
        "      b0=b.replace(',', '')\n",
        "      if np.around(float(a), 5) == np.around(float(b0), 5):\n",
        "        i=1\n",
        "    except:\n",
        "      print(a)\n",
        "  res2.append(i)\n",
        "\n",
        "res3 = []\n",
        "for a in range(1,list(exp3['tasks'])[-1]+1):\n",
        "  exp3_int = exp3[exp3['tasks']==a]\n",
        "  i=0\n",
        "  if Counter(list(exp3_int['mod_answ'])).most_common()[0][1] >=2:\n",
        "    res = Counter(list(exp3_int['mod_answ'])).most_common()[0][0]\n",
        "  else:\n",
        "    res = list(exp3_int['mod_answ'])[0]\n",
        "  b = list(exp3_int['true_answ'])[0]\n",
        "  try:\n",
        "    if np.around(float(res), 5) == np.around(float(b), 5):\n",
        "      i=1\n",
        "  except:\n",
        "    try:\n",
        "      b0=b.replace(',', '')\n",
        "      if np.around(float(res), 5) == np.around(float(b0), 5):\n",
        "        i=1\n",
        "    except:\n",
        "      print(res)\n",
        "  res3.append(i)\n",
        "\n",
        "res4 = []\n",
        "for a in range(1,list(exp3_20['tasks'])[-1]+1):\n",
        "  exp3_20_int = exp3_20[exp3_20['tasks']==a]\n",
        "  i=0\n",
        "  if Counter(list(exp3_20_int['mod_answ'])).most_common()[0][1] >=2:\n",
        "    res = Counter(list(exp3_20_int['mod_answ'])).most_common()[0][0]\n",
        "  else:\n",
        "    res = list(exp3_20_int['mod_answ'])[0]\n",
        "  b = list(exp3_20_int['true_answ'])[0]\n",
        "  try:\n",
        "    if np.around(float(res), 5) == np.around(float(b), 5):\n",
        "      i=1\n",
        "  except:\n",
        "    try:\n",
        "      b0=b.replace(',', '')\n",
        "      if np.around(float(res), 5) == np.around(float(b0), 5):\n",
        "        i=1\n",
        "    except:\n",
        "      print(res)\n",
        "  res4.append(i)\n",
        "\n",
        "total1 = sum(res1)/len(res1)\n",
        "total2 = sum(res2)/len(res2)\n",
        "total3 = sum(res3)/len(res3)\n",
        "total4 = sum(res4)/len(res4)\n",
        "plt.bar(['Base', 'CoT', 'CoT with ens 3', 'CoT with ens 20'], [total1*100, total2*100, total3*100, total4*100])"
      ],
      "metadata": {
        "colab": {
          "base_uri": "https://localhost:8080/",
          "height": 795
        },
        "id": "pK5VaNOLc7L6",
        "outputId": "5bb8ddc5-b277-43a3-d5ea-4d34628b3fdb"
      },
      "execution_count": 21,
      "outputs": [
        {
          "output_type": "stream",
          "name": "stdout",
          "text": [
            "2:30\n",
            "1500/\n",
            "2/5\n",
            "1/2\n",
            "3:40\n",
            "1/4\n",
            "six-\n",
            "180\n",
            "\n",
            "A:\n",
            "P_1\n",
            "Peter'\n",
            "4/5\n",
            "59000\n",
            "\n",
            "A:\n",
            "1/2\n",
            "900\n",
            "\n",
            "Q:\n",
            "4/6\n",
            "3/4\n",
            "6\n",
            "\n",
            "A:\n",
            "Carl'\n",
            "5/6\n",
            "50000/\n"
          ]
        },
        {
          "output_type": "execute_result",
          "data": {
            "text/plain": [
              "<BarContainer object of 4 artists>"
            ]
          },
          "metadata": {},
          "execution_count": 21
        },
        {
          "output_type": "display_data",
          "data": {
            "text/plain": [
              "<Figure size 432x288 with 1 Axes>"
            ],
            "image/png": "[encoded data removed]"
          },
          "metadata": {
            "needs_background": "light"
          }
        }
      ]
    },
    {
      "cell_type": "markdown",
      "source": [
        "На распределение на 100 задачах при изменении количество префиксных задач"
      ],
      "metadata": {
        "id": "pogEr6eJqhDR"
      }
    },
    {
      "cell_type": "code",
      "source": [
        "exp4 = pd.read_excel('/content/exp4_base.xlsx')\n",
        "tot = []\n",
        "for k in range(7):\n",
        "  int_res = 0\n",
        "  a2 = exp4.iloc[k::7]\n",
        "  for a, b in zip(a2['mod_answ'], a2['true_answ']):\n",
        "    try:\n",
        "      if np.around(float(a), 5) == np.around(float(b), 5):\n",
        "        int_res +=1\n",
        "    except:\n",
        "      try:\n",
        "        b0=b.replace(',', '')\n",
        "        if np.around(float(a), 5) == np.around(float(b0), 5):\n",
        "          int_res +=1\n",
        "      except:\n",
        "        print(a, b)\n",
        "  total1 = int_res/len(a2['true_answ'])\n",
        "  tot.append(total1*100)\n",
        "\n",
        "a2 = exp2.iloc[:100]\n",
        "int_res=0\n",
        "for a, b in zip(a2['mod_answ'], a2['true_answ']):\n",
        "  try:\n",
        "    if np.around(float(a), 5) == np.around(float(b), 5):\n",
        "      int_res +=1\n",
        "  except:\n",
        "    try:\n",
        "      b0=b.replace(',', '')\n",
        "      if np.around(float(a), 5) == np.around(float(b0), 5):\n",
        "        int_res +=1\n",
        "    except:\n",
        "      print(a, b)\n",
        "total1 = int_res/len(a2['true_answ'])\n",
        "tot.append(total1*100)\n",
        "print(tot)\n",
        "plt.bar([k for k in range(8)], tot)\n",
        "plt.xlabel = 'Number of shots'\n",
        "plt.ylabel='Percentage of true answers'"
      ],
      "metadata": {
        "colab": {
          "base_uri": "https://localhost:8080/",
          "height": 630
        },
        "id": "pfsfgCX0g2ES",
        "outputId": "0ab2e0fc-5832-4228-e153-f32838236677"
      },
      "execution_count": 22,
      "outputs": [
        {
          "output_type": "stream",
          "name": "stdout",
          "text": [
            "30000\n",
            "A: 70000\n",
            "(5:00 8\n",
            "(16.5 243\n",
            "(3755 83\n",
            "255/2 595\n",
            "cakes: 221\n",
            "of.75 24\n",
            "16/3 3\n",
            "Suzy' 8\n",
            "50000/ 25000\n",
            "1/6 40\n",
            "Uriah' 15\n",
            "4000/ 25000\n",
            "150000/ 25000\n",
            "11/3 3\n",
            "18/45 40\n",
            "1500/ 25000\n",
            "2/5 40\n",
            "[6.0606060606060606, 4.040404040404041, 9.090909090909092, 5.05050505050505, 11.11111111111111, 13.131313131313133, 10.1010101010101, 10.0]\n"
          ]
        },
        {
          "output_type": "display_data",
          "data": {
            "text/plain": [
              "<Figure size 432x288 with 1 Axes>"
            ],
            "image/png": "[encoded data removed]"
          },
          "metadata": {
            "needs_background": "light"
          }
        }
      ]
    },
    {
      "cell_type": "markdown",
      "source": [
        "На распределение при изменении температуры."
      ],
      "metadata": {
        "id": "roVdyfPNqorz"
      }
    },
    {
      "cell_type": "code",
      "source": [
        "exp5 = pd.read_excel('/content/exp5_base.xlsx')\n",
        "tot = []\n",
        "for k in range(3):\n",
        "  int_res = 0\n",
        "  a2 = exp5.iloc[k::3]\n",
        "  for a, b in zip(a2['mod_answ'], a2['true_answ']):\n",
        "    try:\n",
        "      if np.around(float(a), 5) == np.around(float(b), 5):\n",
        "        int_res +=1\n",
        "    except:\n",
        "      try:\n",
        "        b0=b.replace(',', '')\n",
        "        if np.around(float(a), 5) == np.around(float(b0), 5):\n",
        "          int_res +=1\n",
        "      except:\n",
        "        print(a, b)\n",
        "  total1 = int_res/len(a2['true_answ'])\n",
        "  tot.append(total1*100)\n",
        "\n",
        "a2 = exp2.iloc[:100]\n",
        "int_res=0\n",
        "for a, b in zip(a2['mod_answ'], a2['true_answ']):\n",
        "  try:\n",
        "    if np.around(float(a), 5) == np.around(float(b), 5):\n",
        "      int_res +=1\n",
        "  except:\n",
        "    try:\n",
        "      b0=b.replace(',', '')\n",
        "      if np.around(float(a), 5) == np.around(float(b0), 5):\n",
        "        int_res +=1\n",
        "    except:\n",
        "      print(a, b)\n",
        "total1 = int_res/len(a2['true_answ'])\n",
        "tot.append(total1*100)\n",
        "print(tot)\n",
        "plt.bar(['0.2', '0.45', '0.7', '1.0'], tot)"
      ],
      "metadata": {
        "colab": {
          "base_uri": "https://localhost:8080/",
          "height": 375
        },
        "id": "IzcEzC2Inb4C",
        "outputId": "d0e9b80a-8f78-4057-a985-1f68bbb88c3b"
      },
      "execution_count": 23,
      "outputs": [
        {
          "output_type": "stream",
          "name": "stdout",
          "text": [
            "Brandon' 8\n",
            "10000/ 25000\n",
            "1500/ 25000\n",
            "2/5 40\n",
            "[10.1010101010101, 15.151515151515152, 8.080808080808081, 10.0]\n"
          ]
        },
        {
          "output_type": "execute_result",
          "data": {
            "text/plain": [
              "<BarContainer object of 4 artists>"
            ]
          },
          "metadata": {},
          "execution_count": 23
        },
        {
          "output_type": "display_data",
          "data": {
            "text/plain": [
              "<Figure size 432x288 with 1 Axes>"
            ],
            "image/png": "[encoded data removed]"
          },
          "metadata": {
            "needs_background": "light"
          }
        }
      ]
    },
    {
      "cell_type": "markdown",
      "source": [
        "Голосуем!!!!"
      ],
      "metadata": {
        "id": "IWVJEHrZrBNx"
      }
    },
    {
      "cell_type": "code",
      "source": [
        "res5 = []\n",
        "for b in range(1,100):\n",
        "  exp4_inter = exp4[exp4['tasks']==b]\n",
        "  if Counter(list(exp4_inter['mod_answ'])).most_common()[0][1] >=2:\n",
        "    res = Counter(list(exp4_inter['mod_answ'])).most_common()[0][0]\n",
        "  else:\n",
        "    res = list(exp4_inter['mod_answ'])[5]\n",
        "  b = list(exp4_inter['true_answ'])[0]\n",
        "  i=0\n",
        "  try:\n",
        "    if np.around(float(res), 5) == np.around(float(b), 5):\n",
        "      i=1\n",
        "  except:\n",
        "    try:\n",
        "      b0=b.replace(',', '')\n",
        "      if np.around(float(res), 5) == np.around(float(b0), 5):\n",
        "        i=1\n",
        "    except:\n",
        "      print(a, b)\n",
        "  res5.append(i)\n",
        "print(sum(res5))\n",
        "\n",
        "res6 = []\n",
        "for b in range(1,100):\n",
        "  exp5_inter = exp5[exp5['tasks']==b]\n",
        "  if Counter(list(exp5_inter['mod_answ'])).most_common()[0][1] >=2:\n",
        "    res = Counter(list(exp5_inter['mod_answ'])).most_common()[0][0]\n",
        "  else:\n",
        "    res = list(exp5_inter['mod_answ'])[0]\n",
        "  b = list(exp5_inter['true_answ'])[0]\n",
        "  i=0\n",
        "  try:\n",
        "    if np.around(float(res), 5) == np.around(float(b), 5):\n",
        "      i=1\n",
        "  except:\n",
        "    try:\n",
        "      b0=b.replace(',', '')\n",
        "      if np.around(float(res), 5) == np.around(float(b0), 5):\n",
        "        i=1\n",
        "    except:\n",
        "      print(a, b)\n",
        "  res6.append(i)\n",
        "print(sum(res6))"
      ],
      "metadata": {
        "colab": {
          "base_uri": "https://localhost:8080/"
        },
        "id": "zbsZXCf9rDak",
        "outputId": "d438ced5-6213-43ac-8d44-66b43f5f5d9f"
      },
      "execution_count": 24,
      "outputs": [
        {
          "output_type": "stream",
          "name": "stdout",
          "text": [
            "14\n",
            "235 25000\n",
            "14\n"
          ]
        }
      ]
    },
    {
      "cell_type": "markdown",
      "source": [
        "Забавно, что оба ансамбля дали одинаковое качество на датасете. Я проверил, это не одни и те же ответы... Зато качество достаточно хорошее."
      ],
      "metadata": {
        "id": "tzCuZXdgyu1z"
      }
    },
    {
      "cell_type": "code",
      "source": [
        "tot=[]\n",
        "tot.append(sum(res5)/99)\n",
        "tot.append(sum(res6)/99)\n",
        "plt.bar(['ens_k_shots', 'ens_temp'], tot)"
      ],
      "metadata": {
        "colab": {
          "base_uri": "https://localhost:8080/",
          "height": 284
        },
        "id": "HGvLkYTqv2xi",
        "outputId": "660cf9ec-08f4-47bb-87fa-a77801e1cd77"
      },
      "execution_count": 25,
      "outputs": [
        {
          "output_type": "execute_result",
          "data": {
            "text/plain": [
              "<BarContainer object of 2 artists>"
            ]
          },
          "metadata": {},
          "execution_count": 25
        },
        {
          "output_type": "display_data",
          "data": {
            "text/plain": [
              "<Figure size 432x288 with 1 Axes>"
            ],
            "image/png": "[encoded data removed]"
          },
          "metadata": {
            "needs_background": "light"
          }
        }
      ]
    },
    {
      "cell_type": "markdown",
      "source": [
        "Так может мы тогда вообще всех проансамблируем? Чтобы в одинаковы пропорциях входили оба ансамбля, положим оба ансамбля на голосование, но из первого возьмём только 3, 4, 5, 6."
      ],
      "metadata": {
        "id": "logHkybOz3pC"
      }
    },
    {
      "cell_type": "code",
      "source": [
        "res_tot = 0\n",
        "for b in range(1,100):\n",
        "  exp4_inter = exp4[exp4['tasks']==b]\n",
        "  exp5_inter = exp5[exp5['tasks']==b]\n",
        "  lis1 = list(exp4_inter['mod_answ'])[2:6] + list(exp5_inter['mod_answ'])\n",
        "  if Counter(lis1).most_common()[0][1] >=2:\n",
        "    res = Counter(lis1).most_common()[0][0]\n",
        "  else:\n",
        "    res = list(lis1)[5]\n",
        "  b = list(exp4_inter['true_answ'])[0]\n",
        "  try:\n",
        "    if np.around(float(res), 5) == np.around(float(b), 5):\n",
        "      res_tot +=1\n",
        "  except:\n",
        "    try:\n",
        "      b0=b.replace(',', '')\n",
        "      if np.around(float(res), 5) == np.around(float(b0), 5):\n",
        "        res_tot +=1\n",
        "    except:\n",
        "      print(a, b)\n",
        "print(res_tot)"
      ],
      "metadata": {
        "colab": {
          "base_uri": "https://localhost:8080/"
        },
        "id": "bhPnVH4owShZ",
        "outputId": "8b384f6b-1708-4ea6-abf4-0c2b502ebf08"
      },
      "execution_count": 26,
      "outputs": [
        {
          "output_type": "stream",
          "name": "stdout",
          "text": [
            "16\n"
          ]
        }
      ]
    },
    {
      "cell_type": "markdown",
      "source": [
        "Ещё чуть-чуть улучшилось!!!"
      ],
      "metadata": {
        "id": "WvSld_nC1Tcp"
      }
    },
    {
      "cell_type": "code",
      "source": [
        "tot=[]\n",
        "tot.append(res_tot/99)\n",
        "plt.bar(['ens_total'], tot)"
      ],
      "metadata": {
        "colab": {
          "base_uri": "https://localhost:8080/",
          "height": 284
        },
        "id": "-uDYD-u-wxTR",
        "outputId": "a7cd55a4-7bf7-4d09-e8a6-66cc4e060bc6"
      },
      "execution_count": 27,
      "outputs": [
        {
          "output_type": "execute_result",
          "data": {
            "text/plain": [
              "<BarContainer object of 1 artists>"
            ]
          },
          "metadata": {},
          "execution_count": 27
        },
        {
          "output_type": "display_data",
          "data": {
            "text/plain": [
              "<Figure size 432x288 with 1 Axes>"
            ],
            "image/png": "[encoded data removed]"
          },
          "metadata": {
            "needs_background": "light"
          }
        }
      ]
    },
    {
      "cell_type": "markdown",
      "source": [
        "###Часть 2. Исследование зависимости от сложности."
      ],
      "metadata": {
        "id": "jqzS1aKsUFgf"
      }
    },
    {
      "cell_type": "code",
      "source": [
        "!git clone https://github.com/openai/grade-school-math.git"
      ],
      "metadata": {
        "colab": {
          "base_uri": "https://localhost:8080/"
        },
        "id": "m0BU5wQPH-Pa",
        "outputId": "321bae8d-16cc-4ce2-c0c1-5bedc1c7ebdd"
      },
      "execution_count": 28,
      "outputs": [
        {
          "output_type": "stream",
          "name": "stdout",
          "text": [
            "fatal: destination path 'grade-school-math' already exists and is not an empty directory.\n"
          ]
        }
      ]
    },
    {
      "cell_type": "code",
      "source": [
        "###FROM https://github.com/openai/grade-school-math.git\n",
        "\n",
        "def read_jsonl(path: str):\n",
        "    with open(path) as fh:\n",
        "        return [json.loads(line) for line in fh.readlines() if line]\n",
        "\n",
        "\n",
        "def get_examples(split):\n",
        "    path = os.path.join(\"/content/grade-school-math/grade_school_math/data\", f\"{split}.jsonl\")\n",
        "    examples = read_jsonl(path)\n",
        "\n",
        "    for ex in examples:\n",
        "        ex.update(question=ex[\"question\"] + \"\\n\")\n",
        "        ex.update(answer=ex[\"answer\"] + \"<|endoftext|>\")\n",
        "\n",
        "    print(f\"{len(examples)} {split} examples\")\n",
        "    return examples\n",
        "###ENDFROM"
      ],
      "metadata": {
        "id": "u3Wl6DloICC4"
      },
      "execution_count": 29,
      "outputs": []
    },
    {
      "cell_type": "code",
      "source": [
        "get_examples('test')[1]"
      ],
      "metadata": {
        "colab": {
          "base_uri": "https://localhost:8080/"
        },
        "id": "Dl6T7z7TIHib",
        "outputId": "42087eb9-d861-4abd-face-957cd08b064e"
      },
      "execution_count": 30,
      "outputs": [
        {
          "output_type": "stream",
          "name": "stdout",
          "text": [
            "1319 test examples\n"
          ]
        },
        {
          "output_type": "execute_result",
          "data": {
            "text/plain": [
              "{'question': 'A robe takes 2 bolts of blue fiber and half that much white fiber.  How many bolts in total does it take?\\n',\n",
              " 'answer': 'It takes 2/2=<<2/2=1>>1 bolt of white fiber\\nSo the total amount of fabric is 2+1=<<2+1=3>>3 bolts of fabric\\n#### 3<|endoftext|>'}"
            ]
          },
          "metadata": {},
          "execution_count": 30
        }
      ]
    },
    {
      "cell_type": "code",
      "source": [
        "a = get_examples('test')\n",
        "compl = []\n",
        "for i in range(1,100):\n",
        "  b = a[i]\n",
        "  complexity = b['answer'].count('\\n')\n",
        "  compl.append(complexity)"
      ],
      "metadata": {
        "colab": {
          "base_uri": "https://localhost:8080/"
        },
        "id": "H9D8iwIgOqnx",
        "outputId": "41d91f5a-d7be-47dd-8ae8-35851589d506"
      },
      "execution_count": 31,
      "outputs": [
        {
          "output_type": "stream",
          "name": "stdout",
          "text": [
            "1319 test examples\n"
          ]
        }
      ]
    },
    {
      "cell_type": "code",
      "source": [
        "total = pd.DataFrame([compl, res1, res2, res3, res4, res5, res6], index = ['complexity', 'baseline', 'CoT', 'CoT with ens 3', 'CoT with ens 20', 'ens_k_shots', 'ens_temp']).T\n",
        "total.head()"
      ],
      "metadata": {
        "colab": {
          "base_uri": "https://localhost:8080/",
          "height": 206
        },
        "id": "nAXbEux7P6zR",
        "outputId": "b4f78105-c74a-4e06-a1c0-11cc5c6cf96d"
      },
      "execution_count": 32,
      "outputs": [
        {
          "output_type": "execute_result",
          "data": {
            "text/plain": [
              "   complexity  baseline  CoT  CoT with ens 3  CoT with ens 20  ens_k_shots  \\\n",
              "0         2.0       0.0  0.0             0.0              1.0          0.0   \n",
              "1         4.0       0.0  1.0             0.0              0.0          0.0   \n",
              "2         2.0       0.0  0.0             1.0              0.0          1.0   \n",
              "3         2.0       0.0  0.0             0.0              1.0          0.0   \n",
              "4         5.0       0.0  0.0             0.0              0.0          0.0   \n",
              "\n",
              "   ens_temp  \n",
              "0       0.0  \n",
              "1       0.0  \n",
              "2       1.0  \n",
              "3       0.0  \n",
              "4       0.0  "
            ],
            "text/html": [
              "\n",
              "  <div id=\"df-c1330873-f8c2-416b-8d8b-ebfcdccdbd41\">\n",
              "    <div class=\"colab-df-container\">\n",
              "      <div>\n",
              "<style scoped>\n",
              "    .dataframe tbody tr th:only-of-type {\n",
              "        vertical-align: middle;\n",
              "    }\n",
              "\n",
              "    .dataframe tbody tr th {\n",
              "        vertical-align: top;\n",
              "    }\n",
              "\n",
              "    .dataframe thead th {\n",
              "        text-align: right;\n",
              "    }\n",
              "</style>\n",
              "<table border=\"1\" class=\"dataframe\">\n",
              "  <thead>\n",
              "    <tr style=\"text-align: right;\">\n",
              "      <th></th>\n",
              "      <th>complexity</th>\n",
              "      <th>baseline</th>\n",
              "      <th>CoT</th>\n",
              "      <th>CoT with ens 3</th>\n",
              "      <th>CoT with ens 20</th>\n",
              "      <th>ens_k_shots</th>\n",
              "      <th>ens_temp</th>\n",
              "    </tr>\n",
              "  </thead>\n",
              "  <tbody>\n",
              "    <tr>\n",
              "      <th>0</th>\n",
              "      <td>2.0</td>\n",
              "      <td>0.0</td>\n",
              "      <td>0.0</td>\n",
              "      <td>0.0</td>\n",
              "      <td>1.0</td>\n",
              "      <td>0.0</td>\n",
              "      <td>0.0</td>\n",
              "    </tr>\n",
              "    <tr>\n",
              "      <th>1</th>\n",
              "      <td>4.0</td>\n",
              "      <td>0.0</td>\n",
              "      <td>1.0</td>\n",
              "      <td>0.0</td>\n",
              "      <td>0.0</td>\n",
              "      <td>0.0</td>\n",
              "      <td>0.0</td>\n",
              "    </tr>\n",
              "    <tr>\n",
              "      <th>2</th>\n",
              "      <td>2.0</td>\n",
              "      <td>0.0</td>\n",
              "      <td>0.0</td>\n",
              "      <td>1.0</td>\n",
              "      <td>0.0</td>\n",
              "      <td>1.0</td>\n",
              "      <td>1.0</td>\n",
              "    </tr>\n",
              "    <tr>\n",
              "      <th>3</th>\n",
              "      <td>2.0</td>\n",
              "      <td>0.0</td>\n",
              "      <td>0.0</td>\n",
              "      <td>0.0</td>\n",
              "      <td>1.0</td>\n",
              "      <td>0.0</td>\n",
              "      <td>0.0</td>\n",
              "    </tr>\n",
              "    <tr>\n",
              "      <th>4</th>\n",
              "      <td>5.0</td>\n",
              "      <td>0.0</td>\n",
              "      <td>0.0</td>\n",
              "      <td>0.0</td>\n",
              "      <td>0.0</td>\n",
              "      <td>0.0</td>\n",
              "      <td>0.0</td>\n",
              "    </tr>\n",
              "  </tbody>\n",
              "</table>\n",
              "</div>\n",
              "      <button class=\"colab-df-convert\" onclick=\"convertToInteractive('df-c1330873-f8c2-416b-8d8b-ebfcdccdbd41')\"\n",
              "              title=\"Convert this dataframe to an interactive table.\"\n",
              "              style=\"display:none;\">\n",
              "        \n",
              "  <svg xmlns=\"http://www.w3.org/2000/svg\" height=\"24px\"viewBox=\"0 0 24 24\"\n",
              "       width=\"24px\">\n",
              "    <path d=\"M0 0h24v24H0V0z\" fill=\"none\"/>\n",
              "    <path d=\"M18.56 5.44l.94 2.06.94-2.06 2.06-.94-2.06-.94-.94-2.06-.94 2.06-2.06.94zm-11 1L8.5 8.5l.94-2.06 2.06-.94-2.06-.94L8.5 2.5l-.94 2.06-2.06.94zm10 10l.94 2.06.94-2.06 2.06-.94-2.06-.94-.94-2.06-.94 2.06-2.06.94z\"/><path d=\"M17.41 7.96l-1.37-1.37c-.4-.4-.92-.59-1.43-.59-.52 0-1.04.2-1.43.59L10.3 9.45l-7.72 7.72c-.78.78-.78 2.05 0 2.83L4 21.41c.39.39.9.59 1.41.59.51 0 1.02-.2 1.41-.59l7.78-7.78 2.81-2.81c.8-.78.8-2.07 0-2.86zM5.41 20L4 18.59l7.72-7.72 1.47 1.35L5.41 20z\"/>\n",
              "  </svg>\n",
              "      </button>\n",
              "      \n",
              "  <style>\n",
              "    .colab-df-container {\n",
              "      display:flex;\n",
              "      flex-wrap:wrap;\n",
              "      gap: 12px;\n",
              "    }\n",
              "\n",
              "    .colab-df-convert {\n",
              "      background-color: #E8F0FE;\n",
              "      border: none;\n",
              "      border-radius: 50%;\n",
              "      cursor: pointer;\n",
              "      display: none;\n",
              "      fill: #1967D2;\n",
              "      height: 32px;\n",
              "      padding: 0 0 0 0;\n",
              "      width: 32px;\n",
              "    }\n",
              "\n",
              "    .colab-df-convert:hover {\n",
              "      background-color: #E2EBFA;\n",
              "      box-shadow: 0px 1px 2px rgba(60, 64, 67, 0.3), 0px 1px 3px 1px rgba(60, 64, 67, 0.15);\n",
              "      fill: #174EA6;\n",
              "    }\n",
              "\n",
              "    [theme=dark] .colab-df-convert {\n",
              "      background-color: #3B4455;\n",
              "      fill: #D2E3FC;\n",
              "    }\n",
              "\n",
              "    [theme=dark] .colab-df-convert:hover {\n",
              "      background-color: #434B5C;\n",
              "      box-shadow: 0px 1px 3px 1px rgba(0, 0, 0, 0.15);\n",
              "      filter: drop-shadow(0px 1px 2px rgba(0, 0, 0, 0.3));\n",
              "      fill: #FFFFFF;\n",
              "    }\n",
              "  </style>\n",
              "\n",
              "      <script>\n",
              "        const buttonEl =\n",
              "          document.querySelector('#df-c1330873-f8c2-416b-8d8b-ebfcdccdbd41 button.colab-df-convert');\n",
              "        buttonEl.style.display =\n",
              "          google.colab.kernel.accessAllowed ? 'block' : 'none';\n",
              "\n",
              "        async function convertToInteractive(key) {\n",
              "          const element = document.querySelector('#df-c1330873-f8c2-416b-8d8b-ebfcdccdbd41');\n",
              "          const dataTable =\n",
              "            await google.colab.kernel.invokeFunction('convertToInteractive',\n",
              "                                                     [key], {});\n",
              "          if (!dataTable) return;\n",
              "\n",
              "          const docLinkHtml = 'Like what you see? Visit the ' +\n",
              "            '<a target=\"_blank\" href=https://colab.research.google.com/notebooks/data_table.ipynb>data table notebook</a>'\n",
              "            + ' to learn more about interactive tables.';\n",
              "          element.innerHTML = '';\n",
              "          dataTable['output_type'] = 'display_data';\n",
              "          await google.colab.output.renderOutput(dataTable, element);\n",
              "          const docLink = document.createElement('div');\n",
              "          docLink.innerHTML = docLinkHtml;\n",
              "          element.appendChild(docLink);\n",
              "        }\n",
              "      </script>\n",
              "    </div>\n",
              "  </div>\n",
              "  "
            ]
          },
          "metadata": {},
          "execution_count": 32
        }
      ]
    },
    {
      "cell_type": "code",
      "source": [
        "for model in ['baseline', 'CoT', 'CoT with ens 3', 'CoT with ens 20', 'ens_k_shots', 'ens_temp']:\n",
        "  print(pd.pivot_table(total, index = 'complexity', values = model, aggfunc=np.sum).plot.bar())"
      ],
      "metadata": {
        "colab": {
          "base_uri": "https://localhost:8080/",
          "height": 1000
        },
        "id": "Wt734XCGSTVJ",
        "outputId": "d7f576b0-b089-4eba-faa1-b0efb2ed6dc0"
      },
      "execution_count": 34,
      "outputs": [
        {
          "output_type": "stream",
          "name": "stdout",
          "text": [
            "AxesSubplot(0.125,0.125;0.775x0.755)\n",
            "AxesSubplot(0.125,0.125;0.775x0.755)\n",
            "AxesSubplot(0.125,0.125;0.775x0.755)\n",
            "AxesSubplot(0.125,0.125;0.775x0.755)\n",
            "AxesSubplot(0.125,0.125;0.775x0.755)\n",
            "AxesSubplot(0.125,0.125;0.775x0.755)\n"
          ]
        },
        {
          "output_type": "display_data",
          "data": {
            "text/plain": [
              "<Figure size 432x288 with 1 Axes>"
            ],
            "image/png": "[encoded data removed]"
          },
          "metadata": {
            "needs_background": "light"
          }
        },
        {
          "output_type": "display_data",
          "data": {
            "text/plain": [
              "<Figure size 432x288 with 1 Axes>"
            ],
            "image/png": "[encoded data removed]"
          },
          "metadata": {
            "needs_background": "light"
          }
        },
        {
          "output_type": "display_data",
          "data": {
            "text/plain": [
              "<Figure size 432x288 with 1 Axes>"
            ],
            "image/png": "[encoded data removed]"
          },
          "metadata": {
            "needs_background": "light"
          }
        },
        {
          "output_type": "display_data",
          "data": {
            "text/plain": [
              "<Figure size 432x288 with 1 Axes>"
            ],
            "image/png": "[encoded data removed]"
          },
          "metadata": {
            "needs_background": "light"
          }
        },
        {
          "output_type": "display_data",
          "data": {
            "text/plain": [
              "<Figure size 432x288 with 1 Axes>"
            ],
            "image/png": "[encoded data removed]"
          },
          "metadata": {
            "needs_background": "light"
          }
        },
        {
          "output_type": "display_data",
          "data": {
            "text/plain": [
              "<Figure size 432x288 with 1 Axes>"
            ],
            "image/png": "[encoded data removed]"
          },
          "metadata": {
            "needs_background": "light"
          }
        }
      ]
    }
  ]
}
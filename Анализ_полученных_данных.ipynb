{
  "nbformat": 4,
  "nbformat_minor": 0,
  "metadata": {
    "colab": {
      "provenance": []
    },
    "kernelspec": {
      "name": "python3",
      "display_name": "Python 3"
    },
    "language_info": {
      "name": "python"
    }
  },
  "cells": [
    {
      "cell_type": "markdown",
      "source": [
        "###Часть 0. Импорты."
      ],
      "metadata": {
        "id": "gzKU9XbnUPMR"
      }
    },
    {
      "cell_type": "code",
      "execution_count": null,
      "metadata": {
        "id": "Lea337iqco3t"
      },
      "outputs": [],
      "source": [
        "from collections import Counter\n",
        "import pandas as pd\n",
        "import numpy as np\n",
        "import matplotlib.pyplot as plt\n",
        "import json\n",
        "import os\n",
        "import re\n",
        "import torch as th"
      ]
    },
    {
      "cell_type": "markdown",
      "source": [
        "###Часть 1. Общий анализ результатов."
      ],
      "metadata": {
        "id": "zV_NjAhSUL45"
      }
    },
    {
      "cell_type": "markdown",
      "source": [
        "Посмотрим на результаты бейзлайна и CoT"
      ],
      "metadata": {
        "id": "bbSdjeiwqd9y"
      }
    },
    {
      "cell_type": "code",
      "source": [
        "exp1 = pd.read_excel('/content/exp1_base.xlsx')\n",
        "exp2 = pd.read_excel('/content/exp2_base.xlsx')\n",
        "exp3 = pd.read_excel('/content/exp3_base.xlsx')\n",
        "res1 = []\n",
        "for a, b in zip(exp1['mod_answ'], exp1['true_answ']):\n",
        "  i = 0\n",
        "  try:\n",
        "    if np.around(float(a), 5) == np.around(float(b), 5):\n",
        "      i=1\n",
        "  except:\n",
        "    try:\n",
        "      b0=b.replace(',', '')\n",
        "      if np.around(float(a), 5) == np.around(float(b0), 5):\n",
        "        i=1\n",
        "    except:\n",
        "      i = 0\n",
        "      print(a)\n",
        "  res1.append(i)\n",
        "\n",
        "res2 = []\n",
        "for a, b in zip(exp2['mod_answ'], exp2['true_answ']):\n",
        "  i=0\n",
        "  try:\n",
        "    if np.around(float(a), 5) == np.around(float(b), 5):\n",
        "      i=1\n",
        "  except:\n",
        "    try:\n",
        "      b0=b.replace(',', '')\n",
        "      if np.around(float(a), 5) == np.around(float(b0), 5):\n",
        "        i=1\n",
        "    except:\n",
        "      print(a)\n",
        "  res2.append(i)\n",
        "\n",
        "res3 = []\n",
        "for a in range(1,list(exp3['tasks'])[-1]+1):\n",
        "  exp3_int = exp3[exp3['tasks']==a]\n",
        "  i=0\n",
        "  if Counter(list(exp3_int['mod_answ'])).most_common()[0][1] >=2:\n",
        "    res = Counter(list(exp3_int['mod_answ'])).most_common()[0][0]\n",
        "  else:\n",
        "    res = list(exp3_int['mod_answ'])[0]\n",
        "  b = list(exp3_int['true_answ'])[0]\n",
        "  try:\n",
        "    if np.around(float(res), 5) == np.around(float(b), 5):\n",
        "      i=1\n",
        "  except:\n",
        "    try:\n",
        "      b0=b.replace(',', '')\n",
        "      if np.around(float(res), 5) == np.around(float(b0), 5):\n",
        "        i=1\n",
        "    except:\n",
        "      print(res)\n",
        "  res3.append(i)\n",
        "\n",
        "total1 = sum(res1)/len(res1)\n",
        "total2 = sum(res2)/len(res2)\n",
        "total3 = sum(res3)/len(res3)\n",
        "plt.bar(['Base', 'CoT', 'CoT with ens'], [total1*100, total2*100, total3*100])"
      ],
      "metadata": {
        "colab": {
          "base_uri": "https://localhost:8080/",
          "height": 751
        },
        "id": "pK5VaNOLc7L6",
        "outputId": "08d3bfb4-d939-4b78-ead0-b938355a84be"
      },
      "execution_count": null,
      "outputs": [
        {
          "output_type": "stream",
          "name": "stdout",
          "text": [
            "2:30\n",
            "1500/\n",
            "2/5\n",
            "1/2\n",
            "3:40\n",
            "1/4\n",
            "six-\n",
            "180\n",
            "\n",
            "A:\n",
            "P_1\n",
            "Peter'\n",
            "4/5\n",
            "59000\n",
            "\n",
            "A:\n",
            "1/2\n",
            "900\n",
            "\n",
            "Q:\n",
            "4/6\n",
            "3/4\n",
            "6\n",
            "\n",
            "A:\n",
            "Carl'\n",
            "5/6\n"
          ]
        },
        {
          "output_type": "execute_result",
          "data": {
            "text/plain": [
              "<BarContainer object of 3 artists>"
            ]
          },
          "metadata": {},
          "execution_count": 5
        },
        {
          "output_type": "display_data",
          "data": {
            "text/plain": [
              "<Figure size 432x288 with 1 Axes>"
            ],
            "image/png": "[encoded data removed]"
          },
          "metadata": {
            "needs_background": "light"
          }
        }
      ]
    },
    {
      "cell_type": "markdown",
      "source": [
        "На распределение на 100 задачах при изменении количество префиксных задач"
      ],
      "metadata": {
        "id": "pogEr6eJqhDR"
      }
    },
    {
      "cell_type": "code",
      "source": [
        "exp4 = pd.read_excel('/content/exp4_base.xlsx')\n",
        "tot = []\n",
        "for k in range(7):\n",
        "  int_res = 0\n",
        "  a2 = exp4.iloc[k::7]\n",
        "  for a, b in zip(a2['mod_answ'], a2['true_answ']):\n",
        "    try:\n",
        "      if np.around(float(a), 5) == np.around(float(b), 5):\n",
        "        int_res +=1\n",
        "    except:\n",
        "      try:\n",
        "        b0=b.replace(',', '')\n",
        "        if np.around(float(a), 5) == np.around(float(b0), 5):\n",
        "          int_res +=1\n",
        "      except:\n",
        "        print(a, b)\n",
        "  total1 = int_res/len(a2['true_answ'])\n",
        "  tot.append(total1*100)\n",
        "\n",
        "a2 = exp2.iloc[:100]\n",
        "int_res=0\n",
        "for a, b in zip(a2['mod_answ'], a2['true_answ']):\n",
        "  try:\n",
        "    if np.around(float(a), 5) == np.around(float(b), 5):\n",
        "      int_res +=1\n",
        "  except:\n",
        "    try:\n",
        "      b0=b.replace(',', '')\n",
        "      if np.around(float(a), 5) == np.around(float(b0), 5):\n",
        "        int_res +=1\n",
        "    except:\n",
        "      print(a, b)\n",
        "total1 = int_res/len(a2['true_answ'])\n",
        "tot.append(total1*100)\n",
        "print(tot)\n",
        "plt.bar([k for k in range(8)], tot)\n",
        "plt.xlabel = 'Number of shots'\n",
        "plt.ylabel='Percentage of true answers'"
      ],
      "metadata": {
        "colab": {
          "base_uri": "https://localhost:8080/",
          "height": 612
        },
        "id": "pfsfgCX0g2ES",
        "outputId": "d84936c4-9cfb-4d48-f541-befebb041773"
      },
      "execution_count": null,
      "outputs": [
        {
          "output_type": "stream",
          "name": "stdout",
          "text": [
            "30000\n",
            "A: 70000\n",
            "(5:00 8\n",
            "(16.5 243\n",
            "(3755 83\n",
            "255/2 595\n",
            "cakes: 221\n",
            "of.75 24\n",
            "16/3 3\n",
            "Suzy' 8\n",
            "50000/ 25000\n",
            "1/6 40\n",
            "Uriah' 15\n",
            "4000/ 25000\n",
            "150000/ 25000\n",
            "11/3 3\n",
            "18/45 40\n",
            "1500/ 25000\n",
            "2/5 40\n",
            "[6.0606060606060606, 4.040404040404041, 9.090909090909092, 5.05050505050505, 11.11111111111111, 13.131313131313133, 10.1010101010101, 10.0]\n"
          ]
        },
        {
          "output_type": "display_data",
          "data": {
            "text/plain": [
              "<Figure size 432x288 with 1 Axes>"
            ],
            "image/png": "[encoded data removed]"
          },
          "metadata": {
            "needs_background": "light"
          }
        }
      ]
    },
    {
      "cell_type": "markdown",
      "source": [
        "На распределение при изменении температуры."
      ],
      "metadata": {
        "id": "roVdyfPNqorz"
      }
    },
    {
      "cell_type": "code",
      "source": [
        "exp5 = pd.read_excel('/content/exp5_base.xlsx')\n",
        "tot = []\n",
        "for k in range(3):\n",
        "  int_res = 0\n",
        "  a2 = exp5.iloc[k::3]\n",
        "  for a, b in zip(a2['mod_answ'], a2['true_answ']):\n",
        "    try:\n",
        "      if np.around(float(a), 5) == np.around(float(b), 5):\n",
        "        int_res +=1\n",
        "    except:\n",
        "      try:\n",
        "        b0=b.replace(',', '')\n",
        "        if np.around(float(a), 5) == np.around(float(b0), 5):\n",
        "          int_res +=1\n",
        "      except:\n",
        "        print(a, b)\n",
        "  total1 = int_res/len(a2['true_answ'])\n",
        "  tot.append(total1*100)\n",
        "\n",
        "a2 = exp2.iloc[:100]\n",
        "int_res=0\n",
        "for a, b in zip(a2['mod_answ'], a2['true_answ']):\n",
        "  try:\n",
        "    if np.around(float(a), 5) == np.around(float(b), 5):\n",
        "      int_res +=1\n",
        "  except:\n",
        "    try:\n",
        "      b0=b.replace(',', '')\n",
        "      if np.around(float(a), 5) == np.around(float(b0), 5):\n",
        "        int_res +=1\n",
        "    except:\n",
        "      print(a, b)\n",
        "total1 = int_res/len(a2['true_answ'])\n",
        "tot.append(total1*100)\n",
        "print(tot)\n",
        "plt.bar(['0.2', '0.45', '0.7', '1.0'], tot)"
      ],
      "metadata": {
        "colab": {
          "base_uri": "https://localhost:8080/",
          "height": 369
        },
        "id": "IzcEzC2Inb4C",
        "outputId": "2aa7cd4f-e9c9-440c-f2be-8cb2d8c6fc95"
      },
      "execution_count": null,
      "outputs": [
        {
          "output_type": "stream",
          "name": "stdout",
          "text": [
            "Brandon' 8\n",
            "10000/ 25000\n",
            "1500/ 25000\n",
            "2/5 40\n",
            "[10.1010101010101, 15.151515151515152, 8.080808080808081, 10.0]\n"
          ]
        },
        {
          "output_type": "execute_result",
          "data": {
            "text/plain": [
              "<BarContainer object of 4 artists>"
            ]
          },
          "metadata": {},
          "execution_count": 7
        },
        {
          "output_type": "display_data",
          "data": {
            "text/plain": [
              "<Figure size 432x288 with 1 Axes>"
            ],
            "image/png": "[encoded data removed]"
          },
          "metadata": {
            "needs_background": "light"
          }
        }
      ]
    },
    {
      "cell_type": "markdown",
      "source": [
        "Голосуем!!!!"
      ],
      "metadata": {
        "id": "IWVJEHrZrBNx"
      }
    },
    {
      "cell_type": "code",
      "source": [
        "res4 = []\n",
        "for b in range(1,100):\n",
        "  exp4_inter = exp4[exp4['tasks']==b]\n",
        "  if Counter(list(exp4_inter['mod_answ'])).most_common()[0][1] >=2:\n",
        "    res = Counter(list(exp4_inter['mod_answ'])).most_common()[0][0]\n",
        "  else:\n",
        "    res = list(exp4_inter['mod_answ'])[5]\n",
        "  b = list(exp4_inter['true_answ'])[0]\n",
        "  i=0\n",
        "  try:\n",
        "    if np.around(float(res), 5) == np.around(float(b), 5):\n",
        "      i=1\n",
        "  except:\n",
        "    try:\n",
        "      b0=b.replace(',', '')\n",
        "      if np.around(float(res), 5) == np.around(float(b0), 5):\n",
        "        i=1\n",
        "    except:\n",
        "      print(a, b)\n",
        "  res4.append(i)\n",
        "print(sum(res4))\n",
        "\n",
        "res5 = []\n",
        "for b in range(1,100):\n",
        "  exp5_inter = exp5[exp5['tasks']==b]\n",
        "  if Counter(list(exp5_inter['mod_answ'])).most_common()[0][1] >=2:\n",
        "    res = Counter(list(exp5_inter['mod_answ'])).most_common()[0][0]\n",
        "  else:\n",
        "    res = list(exp5_inter['mod_answ'])[0]\n",
        "  b = list(exp5_inter['true_answ'])[0]\n",
        "  i=0\n",
        "  try:\n",
        "    if np.around(float(res), 5) == np.around(float(b), 5):\n",
        "      i=1\n",
        "  except:\n",
        "    try:\n",
        "      b0=b.replace(',', '')\n",
        "      if np.around(float(res), 5) == np.around(float(b0), 5):\n",
        "        i=1\n",
        "    except:\n",
        "      print(a, b)\n",
        "  res5.append(i)\n",
        "print(sum(res5))"
      ],
      "metadata": {
        "colab": {
          "base_uri": "https://localhost:8080/"
        },
        "id": "zbsZXCf9rDak",
        "outputId": "36bbd5f3-7414-4a8e-aa35-f66583d7d63c"
      },
      "execution_count": null,
      "outputs": [
        {
          "output_type": "stream",
          "name": "stdout",
          "text": [
            "14\n",
            "235 25000\n",
            "14\n"
          ]
        }
      ]
    },
    {
      "cell_type": "markdown",
      "source": [
        "Забавно, что оба ансамбля дали одинаковое качество на датасете. Я проверил, это не одни и те же ответы... Зато качество достаточно хорошее."
      ],
      "metadata": {
        "id": "tzCuZXdgyu1z"
      }
    },
    {
      "cell_type": "code",
      "source": [
        "tot=[]\n",
        "tot.append(sum(res4)/99)\n",
        "tot.append(sum(res5)/99)\n",
        "plt.bar(['ens_k_shots', 'ens_temp'], tot)"
      ],
      "metadata": {
        "colab": {
          "base_uri": "https://localhost:8080/",
          "height": 283
        },
        "id": "HGvLkYTqv2xi",
        "outputId": "884a0058-f3fd-4593-8a41-a75b53ddc91f"
      },
      "execution_count": null,
      "outputs": [
        {
          "output_type": "execute_result",
          "data": {
            "text/plain": [
              "<BarContainer object of 2 artists>"
            ]
          },
          "metadata": {},
          "execution_count": 9
        },
        {
          "output_type": "display_data",
          "data": {
            "text/plain": [
              "<Figure size 432x288 with 1 Axes>"
            ],
            "image/png": "[encoded data removed]"
          },
          "metadata": {
            "needs_background": "light"
          }
        }
      ]
    },
    {
      "cell_type": "markdown",
      "source": [
        "Так может мы тогда вообще всех проансамблируем? Чтобы в одинаковы пропорциях входили оба ансамбля, положим оба ансамбля на голосование, но из первого возьмём только 3, 4, 5, 6."
      ],
      "metadata": {
        "id": "logHkybOz3pC"
      }
    },
    {
      "cell_type": "code",
      "source": [
        "res_tot = 0\n",
        "for b in range(1,100):\n",
        "  exp4_inter = exp4[exp4['tasks']==b]\n",
        "  exp5_inter = exp5[exp5['tasks']==b]\n",
        "  lis1 = list(exp4_inter['mod_answ'])[2:6] + list(exp5_inter['mod_answ'])\n",
        "  if Counter(lis1).most_common()[0][1] >=2:\n",
        "    res = Counter(lis1).most_common()[0][0]\n",
        "  else:\n",
        "    res = list(lis1)[5]\n",
        "  b = list(exp4_inter['true_answ'])[0]\n",
        "  try:\n",
        "    if np.around(float(res), 5) == np.around(float(b), 5):\n",
        "      res_tot +=1\n",
        "  except:\n",
        "    try:\n",
        "      b0=b.replace(',', '')\n",
        "      if np.around(float(res), 5) == np.around(float(b0), 5):\n",
        "        res_tot +=1\n",
        "    except:\n",
        "      print(a, b)\n",
        "print(res_tot)"
      ],
      "metadata": {
        "colab": {
          "base_uri": "https://localhost:8080/"
        },
        "id": "bhPnVH4owShZ",
        "outputId": "e1c7a102-29f0-4ed0-ef29-82ec01baa24e"
      },
      "execution_count": null,
      "outputs": [
        {
          "output_type": "stream",
          "name": "stdout",
          "text": [
            "16\n"
          ]
        }
      ]
    },
    {
      "cell_type": "markdown",
      "source": [
        "Ещё чуть-чуть улучшилось!!!"
      ],
      "metadata": {
        "id": "WvSld_nC1Tcp"
      }
    },
    {
      "cell_type": "code",
      "source": [
        "tot=[]\n",
        "tot.append(res_tot/99)\n",
        "plt.bar(['ens_total'], tot)"
      ],
      "metadata": {
        "colab": {
          "base_uri": "https://localhost:8080/",
          "height": 283
        },
        "id": "-uDYD-u-wxTR",
        "outputId": "3938eec6-f9e0-4e0e-e769-ddc131684b62"
      },
      "execution_count": null,
      "outputs": [
        {
          "output_type": "execute_result",
          "data": {
            "text/plain": [
              "<BarContainer object of 1 artists>"
            ]
          },
          "metadata": {},
          "execution_count": 11
        },
        {
          "output_type": "display_data",
          "data": {
            "text/plain": [
              "<Figure size 432x288 with 1 Axes>"
            ],
            "image/png": "[encoded data removed]"
          },
          "metadata": {
            "needs_background": "light"
          }
        }
      ]
    },
    {
      "cell_type": "markdown",
      "source": [
        "###Часть 2. Исследование зависимости от сложности."
      ],
      "metadata": {
        "id": "jqzS1aKsUFgf"
      }
    },
    {
      "cell_type": "code",
      "source": [
        "!git clone https://github.com/openai/grade-school-math.git"
      ],
      "metadata": {
        "colab": {
          "base_uri": "https://localhost:8080/"
        },
        "id": "m0BU5wQPH-Pa",
        "outputId": "10395975-fb62-4d87-fc7d-c9959e3694db"
      },
      "execution_count": null,
      "outputs": [
        {
          "output_type": "stream",
          "name": "stdout",
          "text": [
            "Cloning into 'grade-school-math'...\n",
            "remote: Enumerating objects: 36, done.\u001b[K\n",
            "remote: Counting objects: 100% (20/20), done.\u001b[K\n",
            "remote: Compressing objects: 100% (13/13), done.\u001b[K\n",
            "remote: Total 36 (delta 10), reused 7 (delta 7), pack-reused 16\u001b[K\n",
            "Unpacking objects: 100% (36/36), 3.13 MiB | 3.68 MiB/s, done.\n"
          ]
        }
      ]
    },
    {
      "cell_type": "code",
      "source": [
        "###FROM https://github.com/openai/grade-school-math.git\n",
        "\n",
        "def read_jsonl(path: str):\n",
        "    with open(path) as fh:\n",
        "        return [json.loads(line) for line in fh.readlines() if line]\n",
        "\n",
        "\n",
        "def get_examples(split):\n",
        "    path = os.path.join(\"/content/grade-school-math/grade_school_math/data\", f\"{split}.jsonl\")\n",
        "    examples = read_jsonl(path)\n",
        "\n",
        "    for ex in examples:\n",
        "        ex.update(question=ex[\"question\"] + \"\\n\")\n",
        "        ex.update(answer=ex[\"answer\"] + \"<|endoftext|>\")\n",
        "\n",
        "    print(f\"{len(examples)} {split} examples\")\n",
        "    return examples\n",
        "###ENDFROM"
      ],
      "metadata": {
        "id": "u3Wl6DloICC4"
      },
      "execution_count": null,
      "outputs": []
    },
    {
      "cell_type": "code",
      "source": [
        "get_examples('test')[1]"
      ],
      "metadata": {
        "colab": {
          "base_uri": "https://localhost:8080/"
        },
        "id": "Dl6T7z7TIHib",
        "outputId": "b2cd6b8b-3a76-402e-e211-e5aa8d10e5fd"
      },
      "execution_count": null,
      "outputs": [
        {
          "output_type": "stream",
          "name": "stdout",
          "text": [
            "1319 test examples\n"
          ]
        },
        {
          "output_type": "execute_result",
          "data": {
            "text/plain": [
              "{'question': 'A robe takes 2 bolts of blue fiber and half that much white fiber.  How many bolts in total does it take?\\n',\n",
              " 'answer': 'It takes 2/2=<<2/2=1>>1 bolt of white fiber\\nSo the total amount of fabric is 2+1=<<2+1=3>>3 bolts of fabric\\n#### 3<|endoftext|>'}"
            ]
          },
          "metadata": {},
          "execution_count": 14
        }
      ]
    },
    {
      "cell_type": "code",
      "source": [
        "a = get_examples('test')\n",
        "compl = []\n",
        "for i in range(1,100):\n",
        "  b = a[i]\n",
        "  complexity = b['answer'].count('\\n')\n",
        "  compl.append(complexity)"
      ],
      "metadata": {
        "colab": {
          "base_uri": "https://localhost:8080/"
        },
        "id": "H9D8iwIgOqnx",
        "outputId": "eaab9d73-e926-4fb7-cabc-7e2abb438f6c"
      },
      "execution_count": null,
      "outputs": [
        {
          "output_type": "stream",
          "name": "stdout",
          "text": [
            "1319 test examples\n"
          ]
        }
      ]
    },
    {
      "cell_type": "code",
      "source": [
        "total = pd.DataFrame([compl, res1, res2, res3, res4, res5], index = ['complexity', 'baseline', 'CoT', 'CoT with ens', 'ens_k_shots', 'ens_temp']).T\n",
        "total.head()"
      ],
      "metadata": {
        "colab": {
          "base_uri": "https://localhost:8080/",
          "height": 206
        },
        "id": "nAXbEux7P6zR",
        "outputId": "04aa299f-2742-4dd2-f4a0-aaadee3e45ff"
      },
      "execution_count": null,
      "outputs": [
        {
          "output_type": "execute_result",
          "data": {
            "text/plain": [
              "   complexity  baseline  CoT  CoT with ens  ens_k_shots  ens_temp\n",
              "0         2.0       0.0  0.0           0.0          0.0       0.0\n",
              "1         4.0       0.0  1.0           0.0          0.0       0.0\n",
              "2         2.0       0.0  0.0           1.0          1.0       1.0\n",
              "3         2.0       0.0  0.0           0.0          0.0       0.0\n",
              "4         5.0       0.0  0.0           0.0          0.0       0.0"
            ],
            "text/html": [
              "\n",
              "  <div id=\"df-23dbb4de-b23e-40c5-8b6e-957db30b1850\">\n",
              "    <div class=\"colab-df-container\">\n",
              "      <div>\n",
              "<style scoped>\n",
              "    .dataframe tbody tr th:only-of-type {\n",
              "        vertical-align: middle;\n",
              "    }\n",
              "\n",
              "    .dataframe tbody tr th {\n",
              "        vertical-align: top;\n",
              "    }\n",
              "\n",
              "    .dataframe thead th {\n",
              "        text-align: right;\n",
              "    }\n",
              "</style>\n",
              "<table border=\"1\" class=\"dataframe\">\n",
              "  <thead>\n",
              "    <tr style=\"text-align: right;\">\n",
              "      <th></th>\n",
              "      <th>complexity</th>\n",
              "      <th>baseline</th>\n",
              "      <th>CoT</th>\n",
              "      <th>CoT with ens</th>\n",
              "      <th>ens_k_shots</th>\n",
              "      <th>ens_temp</th>\n",
              "    </tr>\n",
              "  </thead>\n",
              "  <tbody>\n",
              "    <tr>\n",
              "      <th>0</th>\n",
              "      <td>2.0</td>\n",
              "      <td>0.0</td>\n",
              "      <td>0.0</td>\n",
              "      <td>0.0</td>\n",
              "      <td>0.0</td>\n",
              "      <td>0.0</td>\n",
              "    </tr>\n",
              "    <tr>\n",
              "      <th>1</th>\n",
              "      <td>4.0</td>\n",
              "      <td>0.0</td>\n",
              "      <td>1.0</td>\n",
              "      <td>0.0</td>\n",
              "      <td>0.0</td>\n",
              "      <td>0.0</td>\n",
              "    </tr>\n",
              "    <tr>\n",
              "      <th>2</th>\n",
              "      <td>2.0</td>\n",
              "      <td>0.0</td>\n",
              "      <td>0.0</td>\n",
              "      <td>1.0</td>\n",
              "      <td>1.0</td>\n",
              "      <td>1.0</td>\n",
              "    </tr>\n",
              "    <tr>\n",
              "      <th>3</th>\n",
              "      <td>2.0</td>\n",
              "      <td>0.0</td>\n",
              "      <td>0.0</td>\n",
              "      <td>0.0</td>\n",
              "      <td>0.0</td>\n",
              "      <td>0.0</td>\n",
              "    </tr>\n",
              "    <tr>\n",
              "      <th>4</th>\n",
              "      <td>5.0</td>\n",
              "      <td>0.0</td>\n",
              "      <td>0.0</td>\n",
              "      <td>0.0</td>\n",
              "      <td>0.0</td>\n",
              "      <td>0.0</td>\n",
              "    </tr>\n",
              "  </tbody>\n",
              "</table>\n",
              "</div>\n",
              "      <button class=\"colab-df-convert\" onclick=\"convertToInteractive('df-23dbb4de-b23e-40c5-8b6e-957db30b1850')\"\n",
              "              title=\"Convert this dataframe to an interactive table.\"\n",
              "              style=\"display:none;\">\n",
              "        \n",
              "  <svg xmlns=\"http://www.w3.org/2000/svg\" height=\"24px\"viewBox=\"0 0 24 24\"\n",
              "       width=\"24px\">\n",
              "    <path d=\"M0 0h24v24H0V0z\" fill=\"none\"/>\n",
              "    <path d=\"M18.56 5.44l.94 2.06.94-2.06 2.06-.94-2.06-.94-.94-2.06-.94 2.06-2.06.94zm-11 1L8.5 8.5l.94-2.06 2.06-.94-2.06-.94L8.5 2.5l-.94 2.06-2.06.94zm10 10l.94 2.06.94-2.06 2.06-.94-2.06-.94-.94-2.06-.94 2.06-2.06.94z\"/><path d=\"M17.41 7.96l-1.37-1.37c-.4-.4-.92-.59-1.43-.59-.52 0-1.04.2-1.43.59L10.3 9.45l-7.72 7.72c-.78.78-.78 2.05 0 2.83L4 21.41c.39.39.9.59 1.41.59.51 0 1.02-.2 1.41-.59l7.78-7.78 2.81-2.81c.8-.78.8-2.07 0-2.86zM5.41 20L4 18.59l7.72-7.72 1.47 1.35L5.41 20z\"/>\n",
              "  </svg>\n",
              "      </button>\n",
              "      \n",
              "  <style>\n",
              "    .colab-df-container {\n",
              "      display:flex;\n",
              "      flex-wrap:wrap;\n",
              "      gap: 12px;\n",
              "    }\n",
              "\n",
              "    .colab-df-convert {\n",
              "      background-color: #E8F0FE;\n",
              "      border: none;\n",
              "      border-radius: 50%;\n",
              "      cursor: pointer;\n",
              "      display: none;\n",
              "      fill: #1967D2;\n",
              "      height: 32px;\n",
              "      padding: 0 0 0 0;\n",
              "      width: 32px;\n",
              "    }\n",
              "\n",
              "    .colab-df-convert:hover {\n",
              "      background-color: #E2EBFA;\n",
              "      box-shadow: 0px 1px 2px rgba(60, 64, 67, 0.3), 0px 1px 3px 1px rgba(60, 64, 67, 0.15);\n",
              "      fill: #174EA6;\n",
              "    }\n",
              "\n",
              "    [theme=dark] .colab-df-convert {\n",
              "      background-color: #3B4455;\n",
              "      fill: #D2E3FC;\n",
              "    }\n",
              "\n",
              "    [theme=dark] .colab-df-convert:hover {\n",
              "      background-color: #434B5C;\n",
              "      box-shadow: 0px 1px 3px 1px rgba(0, 0, 0, 0.15);\n",
              "      filter: drop-shadow(0px 1px 2px rgba(0, 0, 0, 0.3));\n",
              "      fill: #FFFFFF;\n",
              "    }\n",
              "  </style>\n",
              "\n",
              "      <script>\n",
              "        const buttonEl =\n",
              "          document.querySelector('#df-23dbb4de-b23e-40c5-8b6e-957db30b1850 button.colab-df-convert');\n",
              "        buttonEl.style.display =\n",
              "          google.colab.kernel.accessAllowed ? 'block' : 'none';\n",
              "\n",
              "        async function convertToInteractive(key) {\n",
              "          const element = document.querySelector('#df-23dbb4de-b23e-40c5-8b6e-957db30b1850');\n",
              "          const dataTable =\n",
              "            await google.colab.kernel.invokeFunction('convertToInteractive',\n",
              "                                                     [key], {});\n",
              "          if (!dataTable) return;\n",
              "\n",
              "          const docLinkHtml = 'Like what you see? Visit the ' +\n",
              "            '<a target=\"_blank\" href=https://colab.research.google.com/notebooks/data_table.ipynb>data table notebook</a>'\n",
              "            + ' to learn more about interactive tables.';\n",
              "          element.innerHTML = '';\n",
              "          dataTable['output_type'] = 'display_data';\n",
              "          await google.colab.output.renderOutput(dataTable, element);\n",
              "          const docLink = document.createElement('div');\n",
              "          docLink.innerHTML = docLinkHtml;\n",
              "          element.appendChild(docLink);\n",
              "        }\n",
              "      </script>\n",
              "    </div>\n",
              "  </div>\n",
              "  "
            ]
          },
          "metadata": {},
          "execution_count": 16
        }
      ]
    },
    {
      "cell_type": "code",
      "source": [
        "for model in ['baseline', 'CoT', 'CoT with ens', 'ens_k_shots', 'ens_temp']:\n",
        "  print(pd.pivot_table(total, index = 'complexity', values = model, aggfunc=np.sum).plot.bar())"
      ],
      "metadata": {
        "colab": {
          "base_uri": "https://localhost:8080/",
          "height": 1000
        },
        "id": "Wt734XCGSTVJ",
        "outputId": "75178990-fa43-477c-cabd-93ff8b98f828"
      },
      "execution_count": null,
      "outputs": [
        {
          "output_type": "stream",
          "name": "stdout",
          "text": [
            "AxesSubplot(0.125,0.125;0.775x0.755)\n",
            "AxesSubplot(0.125,0.125;0.775x0.755)\n",
            "AxesSubplot(0.125,0.125;0.775x0.755)\n",
            "AxesSubplot(0.125,0.125;0.775x0.755)\n",
            "AxesSubplot(0.125,0.125;0.775x0.755)\n"
          ]
        },
        {
          "output_type": "display_data",
          "data": {
            "text/plain": [
              "<Figure size 432x288 with 1 Axes>"
            ],
            "image/png": "[encoded data removed]"
          },
          "metadata": {
            "needs_background": "light"
          }
        },
        {
          "output_type": "display_data",
          "data": {
            "text/plain": [
              "<Figure size 432x288 with 1 Axes>"
            ],
            "image/png": "[encoded data removed]"
          },
          "metadata": {
            "needs_background": "light"
          }
        },
        {
          "output_type": "display_data",
          "data": {
            "text/plain": [
              "<Figure size 432x288 with 1 Axes>"
            ],
            "image/png": "[encoded data removed]"
          },
          "metadata": {
            "needs_background": "light"
          }
        },
        {
          "output_type": "display_data",
          "data": {
            "text/plain": [
              "<Figure size 432x288 with 1 Axes>"
            ],
            "image/png": "[encoded data removed]"
          },
          "metadata": {
            "needs_background": "light"
          }
        },
        {
          "output_type": "display_data",
          "data": {
            "text/plain": [
              "<Figure size 432x288 with 1 Axes>"
            ],
            "image/png": "[encoded data removed]"
          },
          "metadata": {
            "needs_background": "light"
          }
        }
      ]
    }
  ]
}